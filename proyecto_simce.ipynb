{
 "cells": [
  {
   "cell_type": "markdown",
   "id": "344e36a9-3116-400d-94bb-cc6dc6ff599b",
   "metadata": {},
   "source": [
    "# Dashboard Interactivo de Resultados SIMCE"
   ]
  },
  {
   "cell_type": "markdown",
   "id": "8c34220d-dd2f-40c3-b9d3-be5d93f7bcc9",
   "metadata": {},
   "source": [
    "![](https://storage.googleapis.com/coderzcolumn/static/tutorials/data_science/streamlit_dashboard.gif)"
   ]
  },
  {
   "cell_type": "markdown",
   "id": "ea8afa6f-3678-40fd-b804-2743649274a1",
   "metadata": {},
   "source": [
    "En el rol de **Consultor de Ciencia de Datos**, se nos ha encomendado la tarea fundamental de desarrollar una **maqueta de Dashboard interactivo** utilizando la plataforma **Streamlit**. El objetivo principal de este dashboard es ofrecer una **visualización clara y dinámica de los resultados parciales de la prueba SIMCE para cuartos básicos** en Chile, permitiendo una exploración detallada de estos indicadores educativos.\n",
    "\n",
    "Este proyecto tiene como fin proporcionar una herramienta accesible para analizar el rendimiento educativo a nivel regional, provincial y comunal, facilitando la identificación de patrones y tendencias.\n",
    "\n",
    "### Estructura del Dashboard:\n",
    "\n",
    "La maqueta del dashboard se estructurará en dos componentes principales para una óptima experiencia de usuario:\n",
    "\n",
    "1. `Panel Lateral de Navegación (Sidebar)`:\n",
    "\n",
    "\n",
    "   Este panel será el centro de control para la interacción del usuario, permitiendo filtrar y explorar los datos del SIMCE a distintos niveles geográficos y por asignatura. Contendrá los siguientes widgets:\n",
    "\n",
    "    - **Selectbox de Región**: Permitirá al usuario seleccionar una de las regiones administrativas de Chile.\n",
    "\n",
    "    - **Selectbox de Provincia**: Este widget se actualizará dinámicamente, mostrando solo las provincias que pertenecen a la región previamente seleccionada.\n",
    "\n",
    "    - **Selectbox de Comuna**: De forma similar, este selectbox filtrará y presentará únicamente las comunas que corresponden a la provincia elegida.\n",
    "\n",
    "    - **Radio Button Lenguaje**: Permitirá seleccionar los resultados correspondientes a la prueba de Lenguaje.\n",
    "\n",
    "    - **Radio Button Matemáticas**: Permitirá seleccionar los resultados correspondientes a la prueba de Matemáticas.\n",
    "\n",
    "2. `Panel Central de Visualización`:\n",
    "\n",
    "\n",
    "   Este panel presentará los datos filtrados de manera gráfica y resumida, ofreciendo una visión inmediata del rendimiento del SIMCE. Estará compuesto por:\n",
    "\n",
    "   - **Un Gráfico Principal**: Diseñado para visualizar las tendencias o comparaciones de los puntajes SIMCE según los filtros aplicados.\n",
    "\n",
    "    - **Tarjetas Estadísticas (KPIs)**: Contendrán métricas clave (como puntaje máximo, mínimo, año puntaje, comuna, tanto para lenguaje como matemáticas) que proporcionarán un resumen rápido y comprensible de los datos seleccionados.\n",
    "\n",
    "Este dashboard interactivo será una demostración de cómo el análisis de datos y las herramientas de visualización pueden transformar conjuntos de datos complejos en información accionable, facilitando la comprensión del panorama educativo."
   ]
  },
  {
   "cell_type": "markdown",
   "id": "2753fe7b-3cdd-4715-8c12-e422265a6fd2",
   "metadata": {},
   "source": [
    "![](https://raw.githubusercontent.com/lgarridocornejo/uahc_python/refs/heads/main/pruebas/dashboard.png)"
   ]
  },
  {
   "cell_type": "markdown",
   "id": "9dce1519-f356-4688-aae5-17e8619603b3",
   "metadata": {},
   "source": [
    "## Objetivos\n",
    "\n",
    "- Realizar un correcto análisis y tratamiento de los datos, el cuál permitirá preparar y limpiar los datos de la forma más adecuada.\n",
    "- Crear repositorio en GitHub, para almacenar el jupyter notebook con el EDA, y el Dashboard\n",
    "- Implementar correctamente el Dashboard en Streamlit"
   ]
  },
  {
   "cell_type": "markdown",
   "id": "7aa264ef-8105-4cc9-99a9-a5149ca960ed",
   "metadata": {},
   "source": [
    "## Criterio de evaluación\n",
    "\n",
    "<table>\n",
    "  <thead>\n",
    "    <tr>\n",
    "      <th>Criterio</th>\n",
    "      <th>Destacado (5 pts)</th>\n",
    "      <th>Competente (3 pts)</th>\n",
    "      <th>Básico (1 pto)</th>\n",
    "      <th>Insatisfactorio (0 pts)</th>\n",
    "    </tr>\n",
    "  </thead>\n",
    "  <tbody>\n",
    "    <tr>\n",
    "      <td>EDA jupyter Notebook</td>\n",
    "      <td>\n",
    "        <li>Describe con claridad el número de filas y columnas.</li>\n",
    "        <li>Nombra e indica el tipo de dato de todas las columnas.</li>\n",
    "        <li>Indica el % de completitud y justifica claramente la imputación de datos.</li>\n",
    "        <li>El análisis estadístico es profundo y pertinente.</li>\n",
    "      </td>\n",
    "      <td>Se entrega la mayoría de los elementos solicitados.\n",
    "        <li>estructura</li>\n",
    "        <li>tipo de datos</li>\n",
    "        <li>completitud e imputación</li>\n",
    "        <li>análisis estadístico es correcto pero no muy profundo</li>\n",
    "      </td>\n",
    "      <td>\n",
    "        <li>Faltan varios elementos del EDA o están incorrectos.</li> \n",
    "        <li>El análisis estadístico es superficial o limitado.</li>\n",
    "      </td>\n",
    "      <td>\n",
    "        <li>El notebook carece de información clave del EDA.</li> \n",
    "        <li>No hay análisis estadístico o está mal ejecutado.</li>\n",
    "      </td>\n",
    "    </tr>\n",
    "    <tr>\n",
    "      <td>Proceso (inicio.py)</td>\n",
    "      <td>El script está completo, bien estructurado y comentado. \n",
    "        <li>Importa librerías</li>\n",
    "        <li>Carga el CSVs</li>\n",
    "        <li>Crea barra lateral funcional</li>\n",
    "        <li>Muestra contenido central claro y coherente, comparando datos comunales con promedio general.</li>\n",
    "      </td>\n",
    "      <td>\n",
    "          <li>El script contiene los elementos requeridos.</li> \n",
    "          <li>Algunas secciones están poco comentadas o podrían estar mejor estructuradas.</li> \n",
    "          <li>No comapara con el promedio general.</li>\n",
    "      </td>\n",
    "      <td>\n",
    "        <li>El script está incompleto o desordenado.</li> \n",
    "        <li>La barra lateral o contenido central presenta errores.</li>\n",
    "      </td>\n",
    "      <td>El script no funciona o tiene errores graves. Faltan elementos clave como carga de datos o visualización.</td>\n",
    "    </tr>\n",
    "    <tr>\n",
    "      <td>GitHub</td>\n",
    "      <td>El repositorio en GitHub bien organizado, uso correcto de nombres de archivos que incluye: \n",
    "        <li>Jupiter notebook, \n",
    "        <li>inicio.py, \n",
    "        <li>README.md: Redacción formal y ordenada.\n",
    "          <ul>\n",
    "            <li>título claro</li>\n",
    "            <li>descripción precisa</li>\n",
    "            <li>link funcional al dashboard, </li>\n",
    "            <li>nombres y GitHub de integrantes.   </li>\n",
    "          </ul>\n",
    "        <li>requirement.txt, que incluye lista precisa y minima de todas las librerías con versiones exactas , garantizando la reproducibilidad.</li></td>\n",
    "      <td>Faltan uno o dos elementos menores \n",
    "        <li>README.md, contiene casi todos los elementos, aunque con redacción o formato mejorables. Link puede estar ausente o mal insertado</li>\n",
    "        <li>requirement.txt, incluye lista de casi todas las librerias usadas</li>\n",
    "      </td>\n",
    "      <td>\n",
    "        <li>Varios archivos clave ausentes o desordenados.</li> \n",
    "        <li>README.md poco claro. Faltan varios elementos o están mal explicados. El link no funciona. </li>\n",
    "        <li>requirement.txt Incompleto, faltan librerias o incluye innecesarias.</li>\n",
    "      </td>\n",
    "      <td>\n",
    "        <li>El repositorio está incompleto, vacío o con archivos incorrectos.</li> \n",
    "        <li>No incluye README o es irrelevante para el proyecto.</li> \n",
    "        <li>Requirement.txt Incompleto, no existe o esta vacío.</li>\n",
    "      </td>\n",
    "    </tr>\n",
    "      <tr>\n",
    "      <td>Streamlit</td>\n",
    "      <td>\n",
    "        <li>Cuenta creada y configurada de forma impecable.</li>\n",
    "        <li>Nombre creativo, conciso y perfectamente alineado con el contenido y proposito del Dashboard. </li>\n",
    "        <li>Dashboard despliega sin problemas, accesible, funciona optimamente, reprositorio y rama perfectamente configurados.</li>\n",
    "      </td>\n",
    "      <td>\n",
    "        <li>El equipo crea una cuenta en Streamlit. </li>\n",
    "        <li>Nombre coherente con el contenido del Dashboard. </li>\n",
    "        <li>Dashboard despliega y es accesible, puede tener errores menores o rendimiento no óptimo, configuración correcta.</li>\n",
    "      </td>\n",
    "      <td>\n",
    "        <li>La cuenta existe pereo presenta problemas menores de configuración. </li>\n",
    "        <li>Nombre genérico o poco descriptivo. \n",
    "        <li>Problemas al desplegarse, inaccesible o errores frecuente. Configuració con errores menores.</li>\n",
    "      </td>\n",
    "      <td>\n",
    "        <li>No hay cuenta de Streamlit o no se puede acceder.</li>\n",
    "        <li>Nombre irrelebante o confuso. </li>\n",
    "        <li>Configuración erronea.</li>\n",
    "      </td>\n",
    "    </tr>\n",
    "  </tbody>\n",
    "</table>"
   ]
  },
  {
   "cell_type": "markdown",
   "id": "5b356083-3603-43a9-a0e9-fb4c2dfc2f43",
   "metadata": {},
   "source": [
    "## Proyecto: Dashboard, Simce cuarto básico\n",
    "Regiones para analizar:\n",
    "- arica y parinacota\n",
    "- antofagasta\n",
    "- valparaíso\n",
    "- ñuble\n",
    "- los lagos\n",
    "- metropolitana"
   ]
  },
  {
   "cell_type": "markdown",
   "id": "be4037ef-e7bc-41be-823d-5d51c67ec6e7",
   "metadata": {},
   "source": [
    "---"
   ]
  },
  {
   "cell_type": "markdown",
   "id": "336fe2fd-8c6e-4d43-b8dc-fceee80455fa",
   "metadata": {},
   "source": [
    "[![Descargar](https://badgen.net/badge/dataset_simce/descargar/red)](https://drive.google.com/file/d/1hlYAGrD4iBWyNRzS8ORyc92UXDB4GB5p/view?usp=sharing)"
   ]
  },
  {
   "cell_type": "markdown",
   "id": "531e88de-6a9d-405a-a5ee-093c284a92dc",
   "metadata": {},
   "source": [
    "[![Descargar](https://badgen.net/badge/dataset_promedio_general/descargar/red)](https://drive.google.com/file/d/187HQC04DxfvycyUhLknyLe2XiQkZBkjc/view?usp=sharing)"
   ]
  },
  {
   "cell_type": "code",
   "execution_count": 5,
   "id": "5b4cbb02-ed8f-4fa3-bbc4-13a8e16bbaff",
   "metadata": {},
   "outputs": [],
   "source": [
    "import pandas as pd"
   ]
  },
  {
   "cell_type": "code",
   "execution_count": 30,
   "id": "86db1ff7",
   "metadata": {},
   "outputs": [],
   "source": [
    "df_simce = pd.read_csv(\"simce.csv\", encoding=\"windows-1252\")"
   ]
  },
  {
   "cell_type": "code",
   "execution_count": 31,
   "id": "ce396934",
   "metadata": {},
   "outputs": [
    {
     "data": {
      "application/vnd.microsoft.datawrangler.viewer.v0+json": {
       "columns": [
        {
         "name": "index",
         "rawType": "int64",
         "type": "integer"
        },
        {
         "name": "agno",
         "rawType": "int64",
         "type": "integer"
        },
        {
         "name": "region",
         "rawType": "object",
         "type": "string"
        },
        {
         "name": "provincia",
         "rawType": "object",
         "type": "string"
        },
        {
         "name": "comuna",
         "rawType": "object",
         "type": "string"
        },
        {
         "name": "lenguaje",
         "rawType": "float64",
         "type": "float"
        },
        {
         "name": "matematicas",
         "rawType": "float64",
         "type": "float"
        }
       ],
       "ref": "dcd10e3a-5709-4edb-8b69-4e12c2c5c0f0",
       "rows": [
        [
         "0",
         "1999",
         "aysén del general carlos ibáñez del campo",
         "aysén",
         "aysén",
         "248.0",
         "244.0"
        ],
        [
         "1",
         "1999",
         "valparaiso",
         "san antonio",
         "algarrobo",
         "234.0",
         "238.0"
        ],
        [
         "2",
         "1999",
         "metropolitana",
         "melipilla",
         "alhué",
         "240.0",
         "248.0"
        ],
        [
         "3",
         "1999",
         "atacama",
         "huasco",
         "alto del carmen",
         "252.0",
         "267.0"
        ],
        [
         "4",
         "1999",
         "los lagos",
         "chiloé",
         "ancud",
         "252.0",
         "251.0"
        ],
        [
         "5",
         "1999",
         "coquimbo",
         "elqui",
         "andacollo",
         "247.0",
         "241.0"
        ],
        [
         "6",
         "1999",
         "la araucanía",
         "malleco",
         "angol",
         "247.0",
         "248.0"
        ],
        [
         "7",
         "1999",
         "antofagasta",
         "antofagasta",
         "antofagasta",
         "248.0",
         "249.0"
        ],
        [
         "8",
         "1999",
         "biobío",
         "biobío",
         "antuco",
         "226.0",
         "218.0"
        ],
        [
         "9",
         "1999",
         "biobío",
         "arauco",
         "arauco",
         "238.0",
         "239.0"
        ],
        [
         "10",
         "1999",
         "arica y parinacota",
         "arica",
         "arica",
         "253.0",
         "254.0"
        ],
        [
         "11",
         "1999",
         "metropolitana",
         "maipo",
         "buin",
         "244.0",
         "246.0"
        ],
        [
         "12",
         "1999",
         "biobío",
         "ñuble",
         "bulnes",
         "228.0",
         "230.0"
        ],
        [
         "13",
         "1999",
         "valparaiso",
         "petorca",
         "cabildo",
         "245.0",
         "248.0"
        ],
        [
         "14",
         "1999",
         "biobío",
         "biobío",
         "cabrero",
         "240.0",
         "236.0"
        ],
        [
         "15",
         "1999",
         "antofagasta",
         "el loa",
         "calama",
         "250.0",
         "249.0"
        ],
        [
         "16",
         "1999",
         "los lagos",
         "llanquihue",
         "calbuco",
         "249.0",
         "248.0"
        ],
        [
         "17",
         "1999",
         "atacama",
         "copiapó",
         "caldera",
         "250.0",
         "254.0"
        ],
        [
         "18",
         "1999",
         "valparaiso",
         "quillota",
         "calera",
         "243.0",
         "244.0"
        ],
        [
         "19",
         "1999",
         "metropolitana",
         "maipo",
         "calera de tango",
         "236.0",
         "243.0"
        ],
        [
         "20",
         "1999",
         "valparaiso",
         "los andes",
         "calle larga",
         "243.0",
         "228.0"
        ],
        [
         "21",
         "1999",
         "tarapacá",
         "tamarugal",
         "camiña",
         "215.0",
         "237.0"
        ],
        [
         "22",
         "1999",
         "coquimbo",
         "choapa",
         "canela",
         "235.0",
         "240.0"
        ],
        [
         "23",
         "1999",
         "la araucanía",
         "cautín",
         "carahue",
         "216.0",
         "225.0"
        ],
        [
         "24",
         "1999",
         "valparaiso",
         "san antonio",
         "cartagena",
         "239.0",
         "237.0"
        ],
        [
         "25",
         "1999",
         "valparaiso",
         "valparaíso",
         "casablanca",
         "239.0",
         "239.0"
        ],
        [
         "26",
         "1999",
         "los lagos",
         "chiloé",
         "castro",
         "260.0",
         "254.0"
        ],
        [
         "27",
         "1999",
         "valparaiso",
         "san felipe de aconcagua",
         "catemu",
         "238.0",
         "232.0"
        ],
        [
         "28",
         "1999",
         "maule",
         "cauquenes",
         "cauquenes",
         "241.0",
         "245.0"
        ],
        [
         "29",
         "1999",
         "biobío",
         "arauco",
         "cañete",
         "240.0",
         "238.0"
        ],
        [
         "30",
         "1999",
         "metropolitana",
         "santiago",
         "cerrillos",
         "248.0",
         "246.0"
        ],
        [
         "31",
         "1999",
         "metropolitana",
         "santiago",
         "cerro navia",
         "232.0",
         "238.0"
        ],
        [
         "32",
         "1999",
         "los lagos",
         "palena",
         "chaitén",
         "263.0",
         "260.0"
        ],
        [
         "33",
         "1999",
         "maule",
         "cauquenes",
         "chanco",
         "221.0",
         "222.0"
        ],
        [
         "34",
         "1999",
         "atacama",
         "chañaral",
         "chañaral",
         "257.0",
         "253.0"
        ],
        [
         "35",
         "1999",
         "biobío",
         "concepción",
         "chiguayante",
         "256.0",
         "255.0"
        ],
        [
         "36",
         "1999",
         "biobío",
         "ñuble",
         "chillán",
         "256.0",
         "254.0"
        ],
        [
         "37",
         "1999",
         "biobío",
         "ñuble",
         "chillán viejo",
         "233.0",
         "232.0"
        ],
        [
         "38",
         "1999",
         "libertador general bernardo o'higgins",
         "colchagua",
         "chimbarongo",
         "246.0",
         "246.0"
        ],
        [
         "39",
         "1999",
         "los lagos",
         "chiloé",
         "chonchi",
         "231.0",
         "240.0"
        ],
        [
         "40",
         "1999",
         "libertador general bernardo o'higgins",
         "colchagua",
         "chépica",
         "245.0",
         "240.0"
        ],
        [
         "41",
         "1999",
         "aysén del general carlos ibáñez del campo",
         "aysén",
         "cisnes",
         "236.0",
         "249.0"
        ],
        [
         "42",
         "1999",
         "biobío",
         "ñuble",
         "cobquecura",
         "255.0",
         "253.0"
        ],
        [
         "43",
         "1999",
         "los lagos",
         "llanquihue",
         "cochamó",
         "220.0",
         "210.0"
        ],
        [
         "44",
         "1999",
         "aysén del general carlos ibáñez del campo",
         "capitán prat",
         "cochrane",
         "269.0",
         "266.0"
        ],
        [
         "45",
         "1999",
         "libertador general bernardo o'higgins",
         "cachapoal",
         "codegua",
         "227.0",
         "229.0"
        ],
        [
         "46",
         "1999",
         "biobío",
         "ñuble",
         "coelemu",
         "241.0",
         "244.0"
        ],
        [
         "47",
         "1999",
         "aysén del general carlos ibáñez del campo",
         "coyhaique",
         "coyhaique",
         "261.0",
         "252.0"
        ],
        [
         "48",
         "1999",
         "biobío",
         "ñuble",
         "coihueco",
         "221.0",
         "226.0"
        ],
        [
         "49",
         "1999",
         "libertador general bernardo o'higgins",
         "cachapoal",
         "coinco",
         "237.0",
         "232.0"
        ]
       ],
       "shape": {
        "columns": 6,
        "rows": 6507
       }
      },
      "text/html": [
       "<div>\n",
       "<style scoped>\n",
       "    .dataframe tbody tr th:only-of-type {\n",
       "        vertical-align: middle;\n",
       "    }\n",
       "\n",
       "    .dataframe tbody tr th {\n",
       "        vertical-align: top;\n",
       "    }\n",
       "\n",
       "    .dataframe thead th {\n",
       "        text-align: right;\n",
       "    }\n",
       "</style>\n",
       "<table border=\"1\" class=\"dataframe\">\n",
       "  <thead>\n",
       "    <tr style=\"text-align: right;\">\n",
       "      <th></th>\n",
       "      <th>agno</th>\n",
       "      <th>region</th>\n",
       "      <th>provincia</th>\n",
       "      <th>comuna</th>\n",
       "      <th>lenguaje</th>\n",
       "      <th>matematicas</th>\n",
       "    </tr>\n",
       "  </thead>\n",
       "  <tbody>\n",
       "    <tr>\n",
       "      <th>0</th>\n",
       "      <td>1999</td>\n",
       "      <td>aysén del general carlos ibáñez del campo</td>\n",
       "      <td>aysén</td>\n",
       "      <td>aysén</td>\n",
       "      <td>248.0</td>\n",
       "      <td>244.0</td>\n",
       "    </tr>\n",
       "    <tr>\n",
       "      <th>1</th>\n",
       "      <td>1999</td>\n",
       "      <td>valparaiso</td>\n",
       "      <td>san antonio</td>\n",
       "      <td>algarrobo</td>\n",
       "      <td>234.0</td>\n",
       "      <td>238.0</td>\n",
       "    </tr>\n",
       "    <tr>\n",
       "      <th>2</th>\n",
       "      <td>1999</td>\n",
       "      <td>metropolitana</td>\n",
       "      <td>melipilla</td>\n",
       "      <td>alhué</td>\n",
       "      <td>240.0</td>\n",
       "      <td>248.0</td>\n",
       "    </tr>\n",
       "    <tr>\n",
       "      <th>3</th>\n",
       "      <td>1999</td>\n",
       "      <td>atacama</td>\n",
       "      <td>huasco</td>\n",
       "      <td>alto del carmen</td>\n",
       "      <td>252.0</td>\n",
       "      <td>267.0</td>\n",
       "    </tr>\n",
       "    <tr>\n",
       "      <th>4</th>\n",
       "      <td>1999</td>\n",
       "      <td>los lagos</td>\n",
       "      <td>chiloé</td>\n",
       "      <td>ancud</td>\n",
       "      <td>252.0</td>\n",
       "      <td>251.0</td>\n",
       "    </tr>\n",
       "    <tr>\n",
       "      <th>...</th>\n",
       "      <td>...</td>\n",
       "      <td>...</td>\n",
       "      <td>...</td>\n",
       "      <td>...</td>\n",
       "      <td>...</td>\n",
       "      <td>...</td>\n",
       "    </tr>\n",
       "    <tr>\n",
       "      <th>6502</th>\n",
       "      <td>2024</td>\n",
       "      <td>ñuble</td>\n",
       "      <td>diguillín</td>\n",
       "      <td>san ignacio</td>\n",
       "      <td>270.0</td>\n",
       "      <td>261.0</td>\n",
       "    </tr>\n",
       "    <tr>\n",
       "      <th>6503</th>\n",
       "      <td>2024</td>\n",
       "      <td>ñuble</td>\n",
       "      <td>diguillín</td>\n",
       "      <td>yungay</td>\n",
       "      <td>267.0</td>\n",
       "      <td>251.0</td>\n",
       "    </tr>\n",
       "    <tr>\n",
       "      <th>6504</th>\n",
       "      <td>2024</td>\n",
       "      <td>ñuble</td>\n",
       "      <td>itata</td>\n",
       "      <td>quirihue</td>\n",
       "      <td>284.0</td>\n",
       "      <td>266.0</td>\n",
       "    </tr>\n",
       "    <tr>\n",
       "      <th>6505</th>\n",
       "      <td>2024</td>\n",
       "      <td>ñuble</td>\n",
       "      <td>itata</td>\n",
       "      <td>cobquecura</td>\n",
       "      <td>255.0</td>\n",
       "      <td>263.0</td>\n",
       "    </tr>\n",
       "    <tr>\n",
       "      <th>6506</th>\n",
       "      <td>2024</td>\n",
       "      <td>ñuble</td>\n",
       "      <td>itata</td>\n",
       "      <td>coelemu</td>\n",
       "      <td>279.0</td>\n",
       "      <td>268.0</td>\n",
       "    </tr>\n",
       "  </tbody>\n",
       "</table>\n",
       "<p>6507 rows × 6 columns</p>\n",
       "</div>"
      ],
      "text/plain": [
       "      agno                                     region    provincia  \\\n",
       "0     1999  aysén del general carlos ibáñez del campo        aysén   \n",
       "1     1999                                 valparaiso  san antonio   \n",
       "2     1999                              metropolitana    melipilla   \n",
       "3     1999                                    atacama       huasco   \n",
       "4     1999                                  los lagos       chiloé   \n",
       "...    ...                                        ...          ...   \n",
       "6502  2024                                      ñuble    diguillín   \n",
       "6503  2024                                      ñuble    diguillín   \n",
       "6504  2024                                      ñuble        itata   \n",
       "6505  2024                                      ñuble        itata   \n",
       "6506  2024                                      ñuble        itata   \n",
       "\n",
       "               comuna  lenguaje  matematicas  \n",
       "0               aysén     248.0        244.0  \n",
       "1           algarrobo     234.0        238.0  \n",
       "2               alhué     240.0        248.0  \n",
       "3     alto del carmen     252.0        267.0  \n",
       "4               ancud     252.0        251.0  \n",
       "...               ...       ...          ...  \n",
       "6502      san ignacio     270.0        261.0  \n",
       "6503           yungay     267.0        251.0  \n",
       "6504         quirihue     284.0        266.0  \n",
       "6505       cobquecura     255.0        263.0  \n",
       "6506          coelemu     279.0        268.0  \n",
       "\n",
       "[6507 rows x 6 columns]"
      ]
     },
     "execution_count": 31,
     "metadata": {},
     "output_type": "execute_result"
    }
   ],
   "source": [
    "df_simce"
   ]
  },
  {
   "cell_type": "code",
   "execution_count": 32,
   "id": "8e3b1c20",
   "metadata": {},
   "outputs": [],
   "source": [
    "df_promedio = pd.read_csv(\"promedio.csv\")"
   ]
  },
  {
   "cell_type": "code",
   "execution_count": 33,
   "id": "08071ce8",
   "metadata": {},
   "outputs": [
    {
     "data": {
      "application/vnd.microsoft.datawrangler.viewer.v0+json": {
       "columns": [
        {
         "name": "index",
         "rawType": "int64",
         "type": "integer"
        },
        {
         "name": "agno",
         "rawType": "int64",
         "type": "integer"
        },
        {
         "name": "lenguaje",
         "rawType": "float64",
         "type": "float"
        },
        {
         "name": "matematicas",
         "rawType": "float64",
         "type": "float"
        }
       ],
       "ref": "bcb8ca3a-72f8-4ca9-9d34-5e4673e3f870",
       "rows": [
        [
         "0",
         "1999",
         "241.39339339339335",
         "242.2942942942943"
        ],
        [
         "1",
         "2002",
         "244.26488095238096",
         "239.9077380952381"
        ],
        [
         "2",
         "2005",
         "248.1198830409357",
         "239.33625730994152"
        ],
        [
         "3",
         "2006",
         "248.9708454810496",
         "239.0379008746356"
        ],
        [
         "4",
         "2007",
         "249.8095238095238",
         "237.8779761904762"
        ],
        [
         "5",
         "2008",
         "256.0353982300885",
         "238.976401179941"
        ],
        [
         "6",
         "2009",
         "256.3790087463557",
         "244.2274052478134"
        ],
        [
         "7",
         "2010",
         "265.6744186046512",
         "244.5610465116279"
        ],
        [
         "8",
         "2011",
         "263.4970930232558",
         "252.6046511627907"
        ],
        [
         "9",
         "2012",
         "249.5520231213873",
         "251.95375722543352"
        ],
        [
         "10",
         "2013",
         "259.81924198250726",
         "250.0524781341108"
        ],
        [
         "11",
         "2014",
         "259.77101449275364",
         "249.50144927536232"
        ],
        [
         "12",
         "2015",
         "261.69565217391306",
         "253.2695652173913"
        ],
        [
         "13",
         "2016",
         "262.3652173913043",
         "254.2057971014493"
        ],
        [
         "14",
         "2017",
         "264.17391304347825",
         "253.44057971014493"
        ],
        [
         "15",
         "2018",
         "264.78840579710146",
         "251.6144927536232"
        ],
        [
         "16",
         "2022",
         "261.29855072463766",
         "243.57971014492756"
        ],
        [
         "17",
         "2023",
         "264.9970930232558",
         "251.0174418604651"
        ],
        [
         "18",
         "2024",
         "272.94476744186045",
         "259.19767441860466"
        ]
       ],
       "shape": {
        "columns": 3,
        "rows": 19
       }
      },
      "text/html": [
       "<div>\n",
       "<style scoped>\n",
       "    .dataframe tbody tr th:only-of-type {\n",
       "        vertical-align: middle;\n",
       "    }\n",
       "\n",
       "    .dataframe tbody tr th {\n",
       "        vertical-align: top;\n",
       "    }\n",
       "\n",
       "    .dataframe thead th {\n",
       "        text-align: right;\n",
       "    }\n",
       "</style>\n",
       "<table border=\"1\" class=\"dataframe\">\n",
       "  <thead>\n",
       "    <tr style=\"text-align: right;\">\n",
       "      <th></th>\n",
       "      <th>agno</th>\n",
       "      <th>lenguaje</th>\n",
       "      <th>matematicas</th>\n",
       "    </tr>\n",
       "  </thead>\n",
       "  <tbody>\n",
       "    <tr>\n",
       "      <th>0</th>\n",
       "      <td>1999</td>\n",
       "      <td>241.393393</td>\n",
       "      <td>242.294294</td>\n",
       "    </tr>\n",
       "    <tr>\n",
       "      <th>1</th>\n",
       "      <td>2002</td>\n",
       "      <td>244.264881</td>\n",
       "      <td>239.907738</td>\n",
       "    </tr>\n",
       "    <tr>\n",
       "      <th>2</th>\n",
       "      <td>2005</td>\n",
       "      <td>248.119883</td>\n",
       "      <td>239.336257</td>\n",
       "    </tr>\n",
       "    <tr>\n",
       "      <th>3</th>\n",
       "      <td>2006</td>\n",
       "      <td>248.970845</td>\n",
       "      <td>239.037901</td>\n",
       "    </tr>\n",
       "    <tr>\n",
       "      <th>4</th>\n",
       "      <td>2007</td>\n",
       "      <td>249.809524</td>\n",
       "      <td>237.877976</td>\n",
       "    </tr>\n",
       "    <tr>\n",
       "      <th>5</th>\n",
       "      <td>2008</td>\n",
       "      <td>256.035398</td>\n",
       "      <td>238.976401</td>\n",
       "    </tr>\n",
       "    <tr>\n",
       "      <th>6</th>\n",
       "      <td>2009</td>\n",
       "      <td>256.379009</td>\n",
       "      <td>244.227405</td>\n",
       "    </tr>\n",
       "    <tr>\n",
       "      <th>7</th>\n",
       "      <td>2010</td>\n",
       "      <td>265.674419</td>\n",
       "      <td>244.561047</td>\n",
       "    </tr>\n",
       "    <tr>\n",
       "      <th>8</th>\n",
       "      <td>2011</td>\n",
       "      <td>263.497093</td>\n",
       "      <td>252.604651</td>\n",
       "    </tr>\n",
       "    <tr>\n",
       "      <th>9</th>\n",
       "      <td>2012</td>\n",
       "      <td>249.552023</td>\n",
       "      <td>251.953757</td>\n",
       "    </tr>\n",
       "    <tr>\n",
       "      <th>10</th>\n",
       "      <td>2013</td>\n",
       "      <td>259.819242</td>\n",
       "      <td>250.052478</td>\n",
       "    </tr>\n",
       "    <tr>\n",
       "      <th>11</th>\n",
       "      <td>2014</td>\n",
       "      <td>259.771014</td>\n",
       "      <td>249.501449</td>\n",
       "    </tr>\n",
       "    <tr>\n",
       "      <th>12</th>\n",
       "      <td>2015</td>\n",
       "      <td>261.695652</td>\n",
       "      <td>253.269565</td>\n",
       "    </tr>\n",
       "    <tr>\n",
       "      <th>13</th>\n",
       "      <td>2016</td>\n",
       "      <td>262.365217</td>\n",
       "      <td>254.205797</td>\n",
       "    </tr>\n",
       "    <tr>\n",
       "      <th>14</th>\n",
       "      <td>2017</td>\n",
       "      <td>264.173913</td>\n",
       "      <td>253.440580</td>\n",
       "    </tr>\n",
       "    <tr>\n",
       "      <th>15</th>\n",
       "      <td>2018</td>\n",
       "      <td>264.788406</td>\n",
       "      <td>251.614493</td>\n",
       "    </tr>\n",
       "    <tr>\n",
       "      <th>16</th>\n",
       "      <td>2022</td>\n",
       "      <td>261.298551</td>\n",
       "      <td>243.579710</td>\n",
       "    </tr>\n",
       "    <tr>\n",
       "      <th>17</th>\n",
       "      <td>2023</td>\n",
       "      <td>264.997093</td>\n",
       "      <td>251.017442</td>\n",
       "    </tr>\n",
       "    <tr>\n",
       "      <th>18</th>\n",
       "      <td>2024</td>\n",
       "      <td>272.944767</td>\n",
       "      <td>259.197674</td>\n",
       "    </tr>\n",
       "  </tbody>\n",
       "</table>\n",
       "</div>"
      ],
      "text/plain": [
       "    agno    lenguaje  matematicas\n",
       "0   1999  241.393393   242.294294\n",
       "1   2002  244.264881   239.907738\n",
       "2   2005  248.119883   239.336257\n",
       "3   2006  248.970845   239.037901\n",
       "4   2007  249.809524   237.877976\n",
       "5   2008  256.035398   238.976401\n",
       "6   2009  256.379009   244.227405\n",
       "7   2010  265.674419   244.561047\n",
       "8   2011  263.497093   252.604651\n",
       "9   2012  249.552023   251.953757\n",
       "10  2013  259.819242   250.052478\n",
       "11  2014  259.771014   249.501449\n",
       "12  2015  261.695652   253.269565\n",
       "13  2016  262.365217   254.205797\n",
       "14  2017  264.173913   253.440580\n",
       "15  2018  264.788406   251.614493\n",
       "16  2022  261.298551   243.579710\n",
       "17  2023  264.997093   251.017442\n",
       "18  2024  272.944767   259.197674"
      ]
     },
     "execution_count": 33,
     "metadata": {},
     "output_type": "execute_result"
    }
   ],
   "source": [
    "df_promedio"
   ]
  },
  {
   "cell_type": "markdown",
   "id": "77de8ab3",
   "metadata": {},
   "source": [
    "# Filas y columnas de los data frames"
   ]
  },
  {
   "cell_type": "code",
   "execution_count": 34,
   "id": "43e14866",
   "metadata": {},
   "outputs": [
    {
     "name": "stdout",
     "output_type": "stream",
     "text": [
      "Filas de df_simce: 6507 \n",
      "columnas de df_simce: 6\n"
     ]
    }
   ],
   "source": [
    "print(f\"Filas de df_simce: {df_simce.shape[0]} \\ncolumnas de df_simce: {df_simce.shape[1]}\")"
   ]
  },
  {
   "cell_type": "code",
   "execution_count": 35,
   "id": "2957d0ec",
   "metadata": {},
   "outputs": [
    {
     "name": "stdout",
     "output_type": "stream",
     "text": [
      "Filas de df_promedio: 19 \n",
      "columnas de df_promedio: 3\n"
     ]
    }
   ],
   "source": [
    "print(f\"Filas de df_promedio: {df_promedio.shape[0]} \\ncolumnas de df_promedio: {df_promedio.shape[1]}\")"
   ]
  },
  {
   "cell_type": "markdown",
   "id": "e451b1ec",
   "metadata": {},
   "source": [
    "# Tipo de datos de los dataframes"
   ]
  },
  {
   "cell_type": "code",
   "execution_count": 36,
   "id": "8159d224",
   "metadata": {},
   "outputs": [
    {
     "name": "stdout",
     "output_type": "stream",
     "text": [
      "<class 'pandas.core.frame.DataFrame'>\n",
      "RangeIndex: 6507 entries, 0 to 6506\n",
      "Data columns (total 6 columns):\n",
      " #   Column       Non-Null Count  Dtype  \n",
      "---  ------       --------------  -----  \n",
      " 0   agno         6507 non-null   int64  \n",
      " 1   region       6507 non-null   object \n",
      " 2   provincia    6507 non-null   object \n",
      " 3   comuna       6507 non-null   object \n",
      " 4   lenguaje     6507 non-null   float64\n",
      " 5   matematicas  6507 non-null   float64\n",
      "dtypes: float64(2), int64(1), object(3)\n",
      "memory usage: 305.1+ KB\n"
     ]
    }
   ],
   "source": [
    "df_simce.info()"
   ]
  },
  {
   "cell_type": "code",
   "execution_count": 37,
   "id": "3d8c15e3",
   "metadata": {},
   "outputs": [
    {
     "name": "stdout",
     "output_type": "stream",
     "text": [
      "<class 'pandas.core.frame.DataFrame'>\n",
      "RangeIndex: 19 entries, 0 to 18\n",
      "Data columns (total 3 columns):\n",
      " #   Column       Non-Null Count  Dtype  \n",
      "---  ------       --------------  -----  \n",
      " 0   agno         19 non-null     int64  \n",
      " 1   lenguaje     19 non-null     float64\n",
      " 2   matematicas  19 non-null     float64\n",
      "dtypes: float64(2), int64(1)\n",
      "memory usage: 588.0 bytes\n"
     ]
    }
   ],
   "source": [
    "df_promedio.info()"
   ]
  },
  {
   "cell_type": "markdown",
   "id": "e8e3fe85",
   "metadata": {},
   "source": [
    "# Completitud/Imputacion"
   ]
  },
  {
   "cell_type": "code",
   "execution_count": 38,
   "id": "477acaec",
   "metadata": {},
   "outputs": [],
   "source": [
    "#Funcion que se ocupara para calcular la completitud del dataframe\n",
    "def calcular_completitud(df):\n",
    "    completitud = pd.DataFrame(df.isnull().sum()).reset_index()\n",
    "    completitud = completitud.rename(columns={\"index\": \"columna\", 0: \"faltantes\"})\n",
    "    completitud[\"completitud\"] = (1 - completitud[\"faltantes\"] / df.shape[0]) * 100\n",
    "    completitud = completitud.sort_values(by=\"completitud\", ascending=True)\n",
    "    completitud.reset_index(drop=True, inplace=True)\n",
    "    return completitud"
   ]
  },
  {
   "cell_type": "code",
   "execution_count": 39,
   "id": "70cf1270",
   "metadata": {},
   "outputs": [
    {
     "data": {
      "application/vnd.microsoft.datawrangler.viewer.v0+json": {
       "columns": [
        {
         "name": "index",
         "rawType": "int64",
         "type": "integer"
        },
        {
         "name": "columna",
         "rawType": "object",
         "type": "string"
        },
        {
         "name": "faltantes",
         "rawType": "int64",
         "type": "integer"
        },
        {
         "name": "completitud",
         "rawType": "float64",
         "type": "float"
        }
       ],
       "ref": "a0c83d2c-0da0-4ed6-ae75-7dbb7711ebe5",
       "rows": [
        [
         "0",
         "agno",
         "0",
         "100.0"
        ],
        [
         "1",
         "lenguaje",
         "0",
         "100.0"
        ],
        [
         "2",
         "matematicas",
         "0",
         "100.0"
        ]
       ],
       "shape": {
        "columns": 3,
        "rows": 3
       }
      },
      "text/html": [
       "<div>\n",
       "<style scoped>\n",
       "    .dataframe tbody tr th:only-of-type {\n",
       "        vertical-align: middle;\n",
       "    }\n",
       "\n",
       "    .dataframe tbody tr th {\n",
       "        vertical-align: top;\n",
       "    }\n",
       "\n",
       "    .dataframe thead th {\n",
       "        text-align: right;\n",
       "    }\n",
       "</style>\n",
       "<table border=\"1\" class=\"dataframe\">\n",
       "  <thead>\n",
       "    <tr style=\"text-align: right;\">\n",
       "      <th></th>\n",
       "      <th>columna</th>\n",
       "      <th>faltantes</th>\n",
       "      <th>completitud</th>\n",
       "    </tr>\n",
       "  </thead>\n",
       "  <tbody>\n",
       "    <tr>\n",
       "      <th>0</th>\n",
       "      <td>agno</td>\n",
       "      <td>0</td>\n",
       "      <td>100.0</td>\n",
       "    </tr>\n",
       "    <tr>\n",
       "      <th>1</th>\n",
       "      <td>lenguaje</td>\n",
       "      <td>0</td>\n",
       "      <td>100.0</td>\n",
       "    </tr>\n",
       "    <tr>\n",
       "      <th>2</th>\n",
       "      <td>matematicas</td>\n",
       "      <td>0</td>\n",
       "      <td>100.0</td>\n",
       "    </tr>\n",
       "  </tbody>\n",
       "</table>\n",
       "</div>"
      ],
      "text/plain": [
       "       columna  faltantes  completitud\n",
       "0         agno          0        100.0\n",
       "1     lenguaje          0        100.0\n",
       "2  matematicas          0        100.0"
      ]
     },
     "execution_count": 39,
     "metadata": {},
     "output_type": "execute_result"
    }
   ],
   "source": [
    "completitud_promedio = calcular_completitud(df_promedio)\n",
    "completitud_promedio"
   ]
  },
  {
   "cell_type": "markdown",
   "id": "3202fd1f",
   "metadata": {},
   "source": [
    "No es necesario imputar los datos en df_promedio porque la completitud es del 100%"
   ]
  },
  {
   "cell_type": "code",
   "execution_count": 40,
   "id": "5d301222",
   "metadata": {},
   "outputs": [
    {
     "data": {
      "application/vnd.microsoft.datawrangler.viewer.v0+json": {
       "columns": [
        {
         "name": "index",
         "rawType": "int64",
         "type": "integer"
        },
        {
         "name": "columna",
         "rawType": "object",
         "type": "string"
        },
        {
         "name": "faltantes",
         "rawType": "int64",
         "type": "integer"
        },
        {
         "name": "completitud",
         "rawType": "float64",
         "type": "float"
        }
       ],
       "ref": "b5971e8c-e717-492c-8280-322170e1c6e5",
       "rows": [
        [
         "0",
         "agno",
         "0",
         "100.0"
        ],
        [
         "1",
         "region",
         "0",
         "100.0"
        ],
        [
         "2",
         "provincia",
         "0",
         "100.0"
        ],
        [
         "3",
         "comuna",
         "0",
         "100.0"
        ],
        [
         "4",
         "lenguaje",
         "0",
         "100.0"
        ],
        [
         "5",
         "matematicas",
         "0",
         "100.0"
        ]
       ],
       "shape": {
        "columns": 3,
        "rows": 6
       }
      },
      "text/html": [
       "<div>\n",
       "<style scoped>\n",
       "    .dataframe tbody tr th:only-of-type {\n",
       "        vertical-align: middle;\n",
       "    }\n",
       "\n",
       "    .dataframe tbody tr th {\n",
       "        vertical-align: top;\n",
       "    }\n",
       "\n",
       "    .dataframe thead th {\n",
       "        text-align: right;\n",
       "    }\n",
       "</style>\n",
       "<table border=\"1\" class=\"dataframe\">\n",
       "  <thead>\n",
       "    <tr style=\"text-align: right;\">\n",
       "      <th></th>\n",
       "      <th>columna</th>\n",
       "      <th>faltantes</th>\n",
       "      <th>completitud</th>\n",
       "    </tr>\n",
       "  </thead>\n",
       "  <tbody>\n",
       "    <tr>\n",
       "      <th>0</th>\n",
       "      <td>agno</td>\n",
       "      <td>0</td>\n",
       "      <td>100.0</td>\n",
       "    </tr>\n",
       "    <tr>\n",
       "      <th>1</th>\n",
       "      <td>region</td>\n",
       "      <td>0</td>\n",
       "      <td>100.0</td>\n",
       "    </tr>\n",
       "    <tr>\n",
       "      <th>2</th>\n",
       "      <td>provincia</td>\n",
       "      <td>0</td>\n",
       "      <td>100.0</td>\n",
       "    </tr>\n",
       "    <tr>\n",
       "      <th>3</th>\n",
       "      <td>comuna</td>\n",
       "      <td>0</td>\n",
       "      <td>100.0</td>\n",
       "    </tr>\n",
       "    <tr>\n",
       "      <th>4</th>\n",
       "      <td>lenguaje</td>\n",
       "      <td>0</td>\n",
       "      <td>100.0</td>\n",
       "    </tr>\n",
       "    <tr>\n",
       "      <th>5</th>\n",
       "      <td>matematicas</td>\n",
       "      <td>0</td>\n",
       "      <td>100.0</td>\n",
       "    </tr>\n",
       "  </tbody>\n",
       "</table>\n",
       "</div>"
      ],
      "text/plain": [
       "       columna  faltantes  completitud\n",
       "0         agno          0        100.0\n",
       "1       region          0        100.0\n",
       "2    provincia          0        100.0\n",
       "3       comuna          0        100.0\n",
       "4     lenguaje          0        100.0\n",
       "5  matematicas          0        100.0"
      ]
     },
     "execution_count": 40,
     "metadata": {},
     "output_type": "execute_result"
    }
   ],
   "source": [
    "completitud_simce = calcular_completitud(df_simce)\n",
    "completitud_simce"
   ]
  },
  {
   "cell_type": "markdown",
   "id": "b01a4ee7",
   "metadata": {},
   "source": [
    "No es necesario imputar los datos en df_simce porque la completitud es del 100%"
   ]
  },
  {
   "cell_type": "markdown",
   "id": "e2cdddd3",
   "metadata": {},
   "source": [
    "# Analisis estadistico"
   ]
  },
  {
   "cell_type": "code",
   "execution_count": 41,
   "id": "20649ada",
   "metadata": {},
   "outputs": [
    {
     "data": {
      "application/vnd.microsoft.datawrangler.viewer.v0+json": {
       "columns": [
        {
         "name": "index",
         "rawType": "object",
         "type": "string"
        },
        {
         "name": "agno",
         "rawType": "float64",
         "type": "float"
        },
        {
         "name": "lenguaje",
         "rawType": "float64",
         "type": "float"
        },
        {
         "name": "matematicas",
         "rawType": "float64",
         "type": "float"
        }
       ],
       "ref": "8594c63c-9dcf-4f8e-b91e-9b3636588414",
       "rows": [
        [
         "count",
         "19.0",
         "19.0",
         "19.0"
        ],
        [
         "mean",
         "2012.157894736842",
         "257.66054339335966",
         "247.19245351096168"
        ],
        [
         "std",
         "6.930313107362601",
         "8.439275355110622",
         "6.486083704938434"
        ],
        [
         "min",
         "1999.0",
         "241.39339339339335",
         "237.8779761904762"
        ],
        [
         "25%",
         "2007.5",
         "249.68077346545556",
         "241.1010161947662"
        ],
        [
         "50%",
         "2012.0",
         "259.81924198250726",
         "249.50144927536232"
        ],
        [
         "75%",
         "2016.5",
         "263.835503033367",
         "252.2792041941121"
        ],
        [
         "max",
         "2024.0",
         "272.94476744186045",
         "259.19767441860466"
        ]
       ],
       "shape": {
        "columns": 3,
        "rows": 8
       }
      },
      "text/html": [
       "<div>\n",
       "<style scoped>\n",
       "    .dataframe tbody tr th:only-of-type {\n",
       "        vertical-align: middle;\n",
       "    }\n",
       "\n",
       "    .dataframe tbody tr th {\n",
       "        vertical-align: top;\n",
       "    }\n",
       "\n",
       "    .dataframe thead th {\n",
       "        text-align: right;\n",
       "    }\n",
       "</style>\n",
       "<table border=\"1\" class=\"dataframe\">\n",
       "  <thead>\n",
       "    <tr style=\"text-align: right;\">\n",
       "      <th></th>\n",
       "      <th>agno</th>\n",
       "      <th>lenguaje</th>\n",
       "      <th>matematicas</th>\n",
       "    </tr>\n",
       "  </thead>\n",
       "  <tbody>\n",
       "    <tr>\n",
       "      <th>count</th>\n",
       "      <td>19.000000</td>\n",
       "      <td>19.000000</td>\n",
       "      <td>19.000000</td>\n",
       "    </tr>\n",
       "    <tr>\n",
       "      <th>mean</th>\n",
       "      <td>2012.157895</td>\n",
       "      <td>257.660543</td>\n",
       "      <td>247.192454</td>\n",
       "    </tr>\n",
       "    <tr>\n",
       "      <th>std</th>\n",
       "      <td>6.930313</td>\n",
       "      <td>8.439275</td>\n",
       "      <td>6.486084</td>\n",
       "    </tr>\n",
       "    <tr>\n",
       "      <th>min</th>\n",
       "      <td>1999.000000</td>\n",
       "      <td>241.393393</td>\n",
       "      <td>237.877976</td>\n",
       "    </tr>\n",
       "    <tr>\n",
       "      <th>25%</th>\n",
       "      <td>2007.500000</td>\n",
       "      <td>249.680773</td>\n",
       "      <td>241.101016</td>\n",
       "    </tr>\n",
       "    <tr>\n",
       "      <th>50%</th>\n",
       "      <td>2012.000000</td>\n",
       "      <td>259.819242</td>\n",
       "      <td>249.501449</td>\n",
       "    </tr>\n",
       "    <tr>\n",
       "      <th>75%</th>\n",
       "      <td>2016.500000</td>\n",
       "      <td>263.835503</td>\n",
       "      <td>252.279204</td>\n",
       "    </tr>\n",
       "    <tr>\n",
       "      <th>max</th>\n",
       "      <td>2024.000000</td>\n",
       "      <td>272.944767</td>\n",
       "      <td>259.197674</td>\n",
       "    </tr>\n",
       "  </tbody>\n",
       "</table>\n",
       "</div>"
      ],
      "text/plain": [
       "              agno    lenguaje  matematicas\n",
       "count    19.000000   19.000000    19.000000\n",
       "mean   2012.157895  257.660543   247.192454\n",
       "std       6.930313    8.439275     6.486084\n",
       "min    1999.000000  241.393393   237.877976\n",
       "25%    2007.500000  249.680773   241.101016\n",
       "50%    2012.000000  259.819242   249.501449\n",
       "75%    2016.500000  263.835503   252.279204\n",
       "max    2024.000000  272.944767   259.197674"
      ]
     },
     "execution_count": 41,
     "metadata": {},
     "output_type": "execute_result"
    }
   ],
   "source": [
    "df_promedio.describe()"
   ]
  },
  {
   "cell_type": "code",
   "execution_count": 42,
   "id": "97bbee58",
   "metadata": {},
   "outputs": [
    {
     "data": {
      "application/vnd.microsoft.datawrangler.viewer.v0+json": {
       "columns": [
        {
         "name": "index",
         "rawType": "object",
         "type": "string"
        },
        {
         "name": "agno",
         "rawType": "float64",
         "type": "float"
        },
        {
         "name": "region",
         "rawType": "object",
         "type": "unknown"
        },
        {
         "name": "provincia",
         "rawType": "object",
         "type": "unknown"
        },
        {
         "name": "comuna",
         "rawType": "object",
         "type": "unknown"
        },
        {
         "name": "lenguaje",
         "rawType": "float64",
         "type": "float"
        },
        {
         "name": "matematicas",
         "rawType": "float64",
         "type": "float"
        }
       ],
       "ref": "49476957-4e17-40a5-96a8-ac4c0ba37c0f",
       "rows": [
        [
         "count",
         "6507.0",
         "6507",
         "6507",
         "6507",
         "6507.0",
         "6507.0"
        ],
        [
         "unique",
         null,
         "17",
         "58",
         "347",
         null,
         null
        ],
        [
         "top",
         null,
         "metropolitana",
         "santiago",
         "aysén",
         null,
         null
        ],
        [
         "freq",
         null,
         "988",
         "608",
         "19",
         null,
         null
        ],
        [
         "mean",
         "2012.2100814507453",
         null,
         null,
         null,
         "257.7213769786384",
         "247.23605348086676"
        ],
        [
         "std",
         "6.726621440684463",
         null,
         null,
         null,
         "16.262184093417662",
         "16.662752279686032"
        ],
        [
         "min",
         "1999.0",
         null,
         null,
         null,
         "0.0",
         "0.0"
        ],
        [
         "25%",
         "2007.0",
         null,
         null,
         null,
         "249.0",
         "237.0"
        ],
        [
         "50%",
         "2012.0",
         null,
         null,
         null,
         "259.0",
         "247.0"
        ],
        [
         "75%",
         "2017.0",
         null,
         null,
         null,
         "267.0",
         "257.0"
        ],
        [
         "max",
         "2024.0",
         null,
         null,
         null,
         "333.0",
         "309.0"
        ]
       ],
       "shape": {
        "columns": 6,
        "rows": 11
       }
      },
      "text/html": [
       "<div>\n",
       "<style scoped>\n",
       "    .dataframe tbody tr th:only-of-type {\n",
       "        vertical-align: middle;\n",
       "    }\n",
       "\n",
       "    .dataframe tbody tr th {\n",
       "        vertical-align: top;\n",
       "    }\n",
       "\n",
       "    .dataframe thead th {\n",
       "        text-align: right;\n",
       "    }\n",
       "</style>\n",
       "<table border=\"1\" class=\"dataframe\">\n",
       "  <thead>\n",
       "    <tr style=\"text-align: right;\">\n",
       "      <th></th>\n",
       "      <th>agno</th>\n",
       "      <th>region</th>\n",
       "      <th>provincia</th>\n",
       "      <th>comuna</th>\n",
       "      <th>lenguaje</th>\n",
       "      <th>matematicas</th>\n",
       "    </tr>\n",
       "  </thead>\n",
       "  <tbody>\n",
       "    <tr>\n",
       "      <th>count</th>\n",
       "      <td>6507.000000</td>\n",
       "      <td>6507</td>\n",
       "      <td>6507</td>\n",
       "      <td>6507</td>\n",
       "      <td>6507.000000</td>\n",
       "      <td>6507.000000</td>\n",
       "    </tr>\n",
       "    <tr>\n",
       "      <th>unique</th>\n",
       "      <td>NaN</td>\n",
       "      <td>17</td>\n",
       "      <td>58</td>\n",
       "      <td>347</td>\n",
       "      <td>NaN</td>\n",
       "      <td>NaN</td>\n",
       "    </tr>\n",
       "    <tr>\n",
       "      <th>top</th>\n",
       "      <td>NaN</td>\n",
       "      <td>metropolitana</td>\n",
       "      <td>santiago</td>\n",
       "      <td>aysén</td>\n",
       "      <td>NaN</td>\n",
       "      <td>NaN</td>\n",
       "    </tr>\n",
       "    <tr>\n",
       "      <th>freq</th>\n",
       "      <td>NaN</td>\n",
       "      <td>988</td>\n",
       "      <td>608</td>\n",
       "      <td>19</td>\n",
       "      <td>NaN</td>\n",
       "      <td>NaN</td>\n",
       "    </tr>\n",
       "    <tr>\n",
       "      <th>mean</th>\n",
       "      <td>2012.210081</td>\n",
       "      <td>NaN</td>\n",
       "      <td>NaN</td>\n",
       "      <td>NaN</td>\n",
       "      <td>257.721377</td>\n",
       "      <td>247.236053</td>\n",
       "    </tr>\n",
       "    <tr>\n",
       "      <th>std</th>\n",
       "      <td>6.726621</td>\n",
       "      <td>NaN</td>\n",
       "      <td>NaN</td>\n",
       "      <td>NaN</td>\n",
       "      <td>16.262184</td>\n",
       "      <td>16.662752</td>\n",
       "    </tr>\n",
       "    <tr>\n",
       "      <th>min</th>\n",
       "      <td>1999.000000</td>\n",
       "      <td>NaN</td>\n",
       "      <td>NaN</td>\n",
       "      <td>NaN</td>\n",
       "      <td>0.000000</td>\n",
       "      <td>0.000000</td>\n",
       "    </tr>\n",
       "    <tr>\n",
       "      <th>25%</th>\n",
       "      <td>2007.000000</td>\n",
       "      <td>NaN</td>\n",
       "      <td>NaN</td>\n",
       "      <td>NaN</td>\n",
       "      <td>249.000000</td>\n",
       "      <td>237.000000</td>\n",
       "    </tr>\n",
       "    <tr>\n",
       "      <th>50%</th>\n",
       "      <td>2012.000000</td>\n",
       "      <td>NaN</td>\n",
       "      <td>NaN</td>\n",
       "      <td>NaN</td>\n",
       "      <td>259.000000</td>\n",
       "      <td>247.000000</td>\n",
       "    </tr>\n",
       "    <tr>\n",
       "      <th>75%</th>\n",
       "      <td>2017.000000</td>\n",
       "      <td>NaN</td>\n",
       "      <td>NaN</td>\n",
       "      <td>NaN</td>\n",
       "      <td>267.000000</td>\n",
       "      <td>257.000000</td>\n",
       "    </tr>\n",
       "    <tr>\n",
       "      <th>max</th>\n",
       "      <td>2024.000000</td>\n",
       "      <td>NaN</td>\n",
       "      <td>NaN</td>\n",
       "      <td>NaN</td>\n",
       "      <td>333.000000</td>\n",
       "      <td>309.000000</td>\n",
       "    </tr>\n",
       "  </tbody>\n",
       "</table>\n",
       "</div>"
      ],
      "text/plain": [
       "               agno         region provincia comuna     lenguaje  matematicas\n",
       "count   6507.000000           6507      6507   6507  6507.000000  6507.000000\n",
       "unique          NaN             17        58    347          NaN          NaN\n",
       "top             NaN  metropolitana  santiago  aysén          NaN          NaN\n",
       "freq            NaN            988       608     19          NaN          NaN\n",
       "mean    2012.210081            NaN       NaN    NaN   257.721377   247.236053\n",
       "std        6.726621            NaN       NaN    NaN    16.262184    16.662752\n",
       "min     1999.000000            NaN       NaN    NaN     0.000000     0.000000\n",
       "25%     2007.000000            NaN       NaN    NaN   249.000000   237.000000\n",
       "50%     2012.000000            NaN       NaN    NaN   259.000000   247.000000\n",
       "75%     2017.000000            NaN       NaN    NaN   267.000000   257.000000\n",
       "max     2024.000000            NaN       NaN    NaN   333.000000   309.000000"
      ]
     },
     "execution_count": 42,
     "metadata": {},
     "output_type": "execute_result"
    }
   ],
   "source": [
    "df_simce.describe(include=\"all\")"
   ]
  }
 ],
 "metadata": {
  "kernelspec": {
   "display_name": "web",
   "language": "python",
   "name": "python3"
  },
  "language_info": {
   "codemirror_mode": {
    "name": "ipython",
    "version": 3
   },
   "file_extension": ".py",
   "mimetype": "text/x-python",
   "name": "python",
   "nbconvert_exporter": "python",
   "pygments_lexer": "ipython3",
   "version": "3.13.5"
  }
 },
 "nbformat": 4,
 "nbformat_minor": 5
}
